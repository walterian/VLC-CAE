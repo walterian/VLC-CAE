{
 "cells": [
  {
   "cell_type": "code",
   "execution_count": 19,
   "metadata": {},
   "outputs": [
    {
     "name": "stdout",
     "output_type": "stream",
     "text": [
      "done\n"
     ]
    }
   ],
   "source": [
    "import keras\n",
    "import numpy as np\n",
    "\n",
    "from keras.models import load_model\n",
    "from keras.utils import to_categorical\n",
    "\n",
    "\n",
    "# load trained model for visualization\n",
    "cae = load_model('trained_cae.h5')\n",
    "\n",
    "encoder = load_model('trained_encoder.h5')\n",
    "decoder = load_model('trained_decoder.h5')\n",
    "\n",
    "\n",
    "model = decoder\n",
    "\n",
    "\n",
    "M = 128\n",
    "L = 5\n",
    "numepochs = 25\n",
    "\n",
    "\n",
    "# One hot encoding\n",
    "rawdata = np.zeros(M)\n",
    "i = 0\n",
    "while(i<M):\n",
    "    rawdata[i] = i\n",
    "    i += 1\n",
    "\n",
    "data = to_categorical(rawdata)\n",
    "#from numpy import reshape\n",
    "data = data.astype(int)\n",
    "ydata = np.reshape(data, (data.shape[0], 1, 1, data.shape[1]))\n",
    "yvaldata = ydata\n",
    "xdata = np.reshape(data, (data.shape[0], 1, 1, data.shape[1]))\n",
    "xvaldata = xdata\n",
    "\n",
    "print('done')"
   ]
  },
  {
   "cell_type": "code",
   "execution_count": 20,
   "metadata": {
    "scrolled": true
   },
   "outputs": [
    {
     "name": "stdout",
     "output_type": "stream",
     "text": [
      "_________________________________________________________________\n",
      "Layer (type)                 Output Shape              Param #   \n",
      "=================================================================\n",
      "input_2 (InputLayer)         (None, 5, 5, 1)           0         \n",
      "_________________________________________________________________\n",
      "up_sampling2d_1 (UpSampling2 (None, 20, 20, 1)         0         \n",
      "_________________________________________________________________\n",
      "gaussian_noise_1 (GaussianNo (None, 20, 20, 1)         0         \n",
      "_________________________________________________________________\n",
      "conv2d_1 (Conv2D)            (None, 20, 20, 256)       6656      \n",
      "_________________________________________________________________\n",
      "batch_normalization_1 (Batch (None, 20, 20, 256)       1024      \n",
      "_________________________________________________________________\n",
      "max_pooling2d_1 (MaxPooling2 (None, 10, 10, 256)       0         \n",
      "_________________________________________________________________\n",
      "conv2d_2 (Conv2D)            (None, 10, 10, 256)       590080    \n",
      "_________________________________________________________________\n",
      "batch_normalization_2 (Batch (None, 10, 10, 256)       1024      \n",
      "_________________________________________________________________\n",
      "max_pooling2d_2 (MaxPooling2 (None, 5, 5, 256)         0         \n",
      "_________________________________________________________________\n",
      "reshape_1 (Reshape)          (None, 1, 1, 6400)        0         \n",
      "_________________________________________________________________\n",
      "dense_1 (Dense)              (None, 1, 1, 128)         819328    \n",
      "_________________________________________________________________\n",
      "batch_normalization_3 (Batch (None, 1, 1, 128)         512       \n",
      "_________________________________________________________________\n",
      "dense_2 (Dense)              (None, 1, 1, 128)         16512     \n",
      "=================================================================\n",
      "Total params: 1,435,136\n",
      "Trainable params: 1,433,856\n",
      "Non-trainable params: 1,280\n",
      "_________________________________________________________________\n"
     ]
    }
   ],
   "source": [
    "class_idx = ydata[0]\n",
    "#indices = y_test[:, 0]\n",
    "#indices = np.where(ydata[:, class_idx] == 1.)[0]\n",
    "indices = ydata\n",
    "\n",
    "idx = ydata[0]\n",
    "#idx = indices[0]\n",
    "from matplotlib import pyplot as plt\n",
    "%matplotlib inline\n",
    "plt.rcParams['figure.figsize'] = (128, 6)\n",
    "#plt.imshow(idx[:])\n",
    "model.summary()"
   ]
  },
  {
   "cell_type": "code",
   "execution_count": 54,
   "metadata": {
    "scrolled": true
   },
   "outputs": [
    {
     "name": "stdout",
     "output_type": "stream",
     "text": [
      "(5, 5, 1)\n"
     ]
    },
    {
     "data": {
      "text/plain": [
       "<matplotlib.image.AxesImage at 0x1d93d6be780>"
      ]
     },
     "execution_count": 54,
     "metadata": {},
     "output_type": "execute_result"
    },
    {
     "data": {
      "image/png": "[encoded data removed]",
      "text/plain": [
       "<Figure size 360x360 with 1 Axes>"
      ]
     },
     "metadata": {
      "needs_background": "light"
     },
     "output_type": "display_data"
    }
   ],
   "source": [
    "activations = encoder.predict(xdata)\n",
    "#print(activations[0])\n",
    "#print(activations[0])\n",
    "inp = activations[0]\n",
    "print(inp.shape)\n",
    "plt.imshow(inp[:,...,0])"
   ]
  },
  {
   "cell_type": "code",
   "execution_count": 69,
   "metadata": {},
   "outputs": [
    {
     "name": "stdout",
     "output_type": "stream",
     "text": [
      "8.0\n"
     ]
    }
   ],
   "source": [
    "dim1 = np.sqrt(M)\n",
    "if (np.mod(dim1, 1) == 0):\n",
    "    dim2 = dim1\n",
    "else:\n",
    "    dim1 = np.sqrt(M/2)\n",
    "    dim2 = M/dim1\n",
    "\n"
   ]
  },
  {
   "cell_type": "code",
   "execution_count": 73,
   "metadata": {
    "scrolled": true
   },
   "outputs": [
    {
     "name": "stdout",
     "output_type": "stream",
     "text": [
      "6\n",
      "[[0.24642861 0.6638854  0.05845841 0.715081   0.12911929]\n",
      " [0.30603102 0.02467067 0.26439124 0.4169123  0.1141532 ]\n",
      " [0.         0.99999934 0.6894923  0.07456288 0.43253538]\n",
      " [0.6880462  0.50862855 0.29221886 0.22914301 0.7158429 ]\n",
      " [0.11455432 0.17012441 0.05913357 0.48676965 0.04054442]]\n"
     ]
    },
    {
     "data": {
      "text/plain": [
       "<matplotlib.image.AxesImage at 0x1d9511a3a20>"
      ]
     },
     "execution_count": 73,
     "metadata": {},
     "output_type": "execute_result"
    },
    {
     "data": {
      "image/png": "[encoded data removed]",
      "text/plain": [
       "<Figure size 1152x288 with 1 Axes>"
      ]
     },
     "metadata": {
      "needs_background": "light"
     },
     "output_type": "display_data"
    }
   ],
   "source": [
    "from vis.visualization import visualize_saliency\n",
    "from vis.utils import utils\n",
    "from keras import activations\n",
    "\n",
    "layer_idx = utils.find_layer_idx(model, 'conv2d_2')\n",
    "print(layer_idx)\n",
    "model.layers[layer_idx].activation = activations.linear\n",
    "model = utils.apply_modifications(model)\n",
    "\n",
    "grads = visualize_saliency(model, layer_idx, filter_indices=None, seed_input=inp)\n",
    "print(grads)\n",
    "\n",
    "plt.rcParams['figure.figsize'] = (16, 4)\n",
    "plt.imshow(grads, cmap='binary')"
   ]
  },
  {
   "cell_type": "code",
   "execution_count": 74,
   "metadata": {},
   "outputs": [
    {
     "data": {
      "image/png": "[encoded data removed]",
      "text/plain": [
       "<Figure size 1152x288 with 1 Axes>"
      ]
     },
     "metadata": {
      "needs_background": "light"
     },
     "output_type": "display_data"
    },
    {
     "data": {
      "image/png": "[encoded data removed]",
      "text/plain": [
       "<Figure size 1152x288 with 1 Axes>"
      ]
     },
     "metadata": {
      "needs_background": "light"
     },
     "output_type": "display_data"
    }
   ],
   "source": [
    "for modifier in ['guided', 'relu']:\n",
    "    grads = visualize_saliency(model, layer_idx, filter_indices=None,\n",
    "                               seed_input=inp, backprop_modifier=modifier)\n",
    "    plt.figure()\n",
    "    plt.title(modifier)\n",
    "    plt.imshow(grads, cmap='binary')"
   ]
  },
  {
   "cell_type": "code",
   "execution_count": null,
   "metadata": {
    "scrolled": false
   },
   "outputs": [
    {
     "name": "stderr",
     "output_type": "stream",
     "text": [
      "C:\\Users\\Ian\\Anaconda3\\envs\\PythonGPU\\lib\\site-packages\\matplotlib\\pyplot.py:514: RuntimeWarning: More than 20 figures have been opened. Figures created through the pyplot interface (`matplotlib.pyplot.figure`) are retained until explicitly closed and may consume too much memory. (To control this warning, see the rcParam `figure.max_open_warning`).\n",
      "  max_open_warning, RuntimeWarning)\n"
     ]
    }
   ],
   "source": [
    "for index in np.arange(M):    \n",
    "    activations = encoder.predict(xdata)\n",
    "    #print(activations[0])\n",
    "    #print(activations[index])\n",
    "    inp = activations[index]\n",
    "\n",
    "    f, ax = plt.subplots(1, 4)\n",
    "    # displays input\n",
    "    ax[0].set_title(index)\n",
    "    ax[0].imshow(inp[:, ..., 0], cmap='binary')\n",
    "    \n",
    "    for i, modifier in enumerate([None, 'guided', 'relu']):\n",
    "        grads = visualize_saliency(model, layer_idx, filter_indices=None, \n",
    "                                   seed_input=inp, backprop_modifier=modifier)\n",
    "        if modifier is None:\n",
    "            modifier = 'vanilla'\n",
    "        ax[i+1].set_title(modifier)    \n",
    "        ax[i+1].imshow(grads, cmap='binary')"
   ]
  },
  {
   "cell_type": "code",
   "execution_count": null,
   "metadata": {},
   "outputs": [],
   "source": []
  }
 ],
 "metadata": {
  "kernelspec": {
   "display_name": "Python 3",
   "language": "python",
   "name": "python3"
  },
  "language_info": {
   "codemirror_mode": {
    "name": "ipython",
    "version": 3
   },
   "file_extension": ".py",
   "mimetype": "text/x-python",
   "name": "python",
   "nbconvert_exporter": "python",
   "pygments_lexer": "ipython3",
   "version": "3.6.8"
  }
 },
 "nbformat": 4,
 "nbformat_minor": 2
}
