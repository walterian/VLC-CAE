{
 "cells": [
  {
   "cell_type": "code",
   "execution_count": 1,
   "metadata": {},
   "outputs": [
    {
     "name": "stderr",
     "output_type": "stream",
     "text": [
      "Using TensorFlow backend.\n"
     ]
    },
    {
     "name": "stdout",
     "output_type": "stream",
     "text": [
      "done\n"
     ]
    }
   ],
   "source": [
    "import keras\n",
    "import numpy as np\n",
    "\n",
    "from keras.models import load_model\n",
    "from keras.utils import to_categorical\n",
    "\n",
    "\n",
    "# load trained model for visualization\n",
    "cae = load_model('trained_cae.h5')\n",
    "\n",
    "encoder = load_model('trained_encoder.h5')\n",
    "decoder = load_model('trained_decoder.h5')\n",
    "\n",
    "\n",
    "model = encoder\n",
    "\n",
    "\n",
    "M = 128\n",
    "L = 5\n",
    "numepochs = 25\n",
    "\n",
    "\n",
    "# One hot encoding\n",
    "rawdata = np.zeros(M)\n",
    "i = 0\n",
    "while(i<M):\n",
    "    rawdata[i] = i\n",
    "    i += 1\n",
    "\n",
    "data = to_categorical(rawdata)\n",
    "#from numpy import reshape\n",
    "data = data.astype(int)\n",
    "ydata = np.reshape(data, (data.shape[0], 1, 1, data.shape[1]))\n",
    "yvaldata = ydata\n",
    "xdata = np.reshape(data, (data.shape[0], 1, 1, data.shape[1]))\n",
    "xvaldata = xdata\n",
    "\n",
    "print('done')"
   ]
  },
  {
   "cell_type": "code",
   "execution_count": 2,
   "metadata": {
    "scrolled": true
   },
   "outputs": [
    {
     "name": "stdout",
     "output_type": "stream",
     "text": [
      "_________________________________________________________________\n",
      "Layer (type)                 Output Shape              Param #   \n",
      "=================================================================\n",
      "input_3 (InputLayer)         (None, 1, 1, 128)         0         \n",
      "_________________________________________________________________\n",
      "dense_3 (Dense)              (None, 1, 1, 128)         16512     \n",
      "_________________________________________________________________\n",
      "dense_4 (Dense)              (None, 1, 1, 400)         51600     \n",
      "_________________________________________________________________\n",
      "batch_normalization_4 (Batch (None, 1, 1, 400)         1600      \n",
      "_________________________________________________________________\n",
      "reshape_2 (Reshape)          (None, 20, 20, 1)         0         \n",
      "_________________________________________________________________\n",
      "conv2d_3 (Conv2D)            (None, 20, 20, 128)       1280      \n",
      "_________________________________________________________________\n",
      "batch_normalization_5 (Batch (None, 20, 20, 128)       512       \n",
      "_________________________________________________________________\n",
      "max_pooling2d_3 (MaxPooling2 (None, 10, 10, 128)       0         \n",
      "_________________________________________________________________\n",
      "conv2d_4 (Conv2D)            (None, 10, 10, 256)       295168    \n",
      "_________________________________________________________________\n",
      "batch_normalization_6 (Batch (None, 10, 10, 256)       1024      \n",
      "_________________________________________________________________\n",
      "max_pooling2d_4 (MaxPooling2 (None, 5, 5, 256)         0         \n",
      "_________________________________________________________________\n",
      "conv2d_5 (Conv2D)            (None, 5, 5, 1)           2305      \n",
      "=================================================================\n",
      "Total params: 370,001\n",
      "Trainable params: 368,433\n",
      "Non-trainable params: 1,568\n",
      "_________________________________________________________________\n"
     ]
    }
   ],
   "source": [
    "class_idx = ydata[0]\n",
    "#indices = y_test[:, 0]\n",
    "#indices = np.where(ydata[:, class_idx] == 1.)[0]\n",
    "indices = ydata\n",
    "\n",
    "idx = ydata[0]\n",
    "#idx = indices[0]\n",
    "\n",
    "#plt.imshow(idx[:])\n",
    "model.summary()"
   ]
  },
  {
   "cell_type": "code",
   "execution_count": 19,
   "metadata": {
    "scrolled": true
   },
   "outputs": [
    {
     "name": "stdout",
     "output_type": "stream",
     "text": [
      "[[[1 0 0 0 0 0 0 0 0 0 0 0 0 0 0 0 0 0 0 0 0 0 0 0 0 0 0 0 0 0 0 0 0 0 0\n",
      "   0 0 0 0 0 0 0 0 0 0 0 0 0 0 0 0 0 0 0 0 0 0 0 0 0 0 0 0 0 0 0 0 0 0 0\n",
      "   0 0 0 0 0 0 0 0 0 0 0 0 0 0 0 0 0 0 0 0 0 0 0 0 0 0 0 0 0 0 0 0 0 0 0\n",
      "   0 0 0 0 0 0 0 0 0 0 0 0 0 0 0 0 0 0 0 0 0 0 0]]]\n",
      "[[0.]]\n"
     ]
    },
    {
     "data": {
      "text/plain": [
       "<matplotlib.image.AxesImage at 0x1a92c52def0>"
      ]
     },
     "execution_count": 19,
     "metadata": {},
     "output_type": "execute_result"
    },
    {
     "data": {
      "image/png": "[encoded data removed]",
      "text/plain": [
       "<Figure size 1152x144 with 1 Axes>"
      ]
     },
     "metadata": {
      "needs_background": "light"
     },
     "output_type": "display_data"
    }
   ],
   "source": [
    "from vis.visualization import visualize_saliency\n",
    "from vis.utils import utils\n",
    "from keras import activations\n",
    "from matplotlib import pyplot as plt\n",
    "%matplotlib inline\n",
    "plt.rcParams['figure.figsize'] = (16, 2)\n",
    "\n",
    "layer_idx = utils.find_layer_idx(model, 'conv2d_3')\n",
    "print(inp)\n",
    "model.layers[layer_idx].activation = activations.linear\n",
    "model = utils.apply_modifications(model)\n",
    "grads = visualize_saliency(model, layer_idx, filter_indices=None, seed_input=inp)\n",
    "print(grads)\n",
    "plt.imshow(grads, cmap='binary')"
   ]
  },
  {
   "cell_type": "code",
   "execution_count": 9,
   "metadata": {
    "scrolled": false
   },
   "outputs": [
    {
     "data": {
      "image/png": "[encoded data removed]",
      "text/plain": [
       "<Figure size 432x288 with 4 Axes>"
      ]
     },
     "metadata": {
      "needs_background": "light"
     },
     "output_type": "display_data"
    },
    {
     "data": {
      "image/png": "[encoded data removed]",
      "text/plain": [
       "<Figure size 432x288 with 4 Axes>"
      ]
     },
     "metadata": {
      "needs_background": "light"
     },
     "output_type": "display_data"
    },
    {
     "data": {
      "image/png": "[encoded data removed]",
      "text/plain": [
       "<Figure size 432x288 with 4 Axes>"
      ]
     },
     "metadata": {
      "needs_background": "light"
     },
     "output_type": "display_data"
    },
    {
     "data": {
      "image/png": "[encoded data removed]",
      "text/plain": [
       "<Figure size 432x288 with 4 Axes>"
      ]
     },
     "metadata": {
      "needs_background": "light"
     },
     "output_type": "display_data"
    },
    {
     "data": {
      "image/png": "[encoded data removed]",
      "text/plain": [
       "<Figure size 432x288 with 4 Axes>"
      ]
     },
     "metadata": {
      "needs_background": "light"
     },
     "output_type": "display_data"
    }
   ],
   "source": [
    "for index in np.arange(1):    \n",
    "    for layer_idx in [1, 2, 5, 8, 11]:\n",
    "        activations = xdata\n",
    "        #print(activations[0])\n",
    "        #print(activations[index])\n",
    "        inp = activations[index]\n",
    "\n",
    "        f, ax = plt.subplots(1, 4)\n",
    "        # displays input\n",
    "        \n",
    "        ax[0].set_title(model.layers[layer_idx].name + ' ' + str(index))\n",
    "        ax[0].imshow(inp[:, ..., 0], cmap='binary')\n",
    "\n",
    "        for i, modifier in enumerate([None, 'guided', 'relu']):\n",
    "            grads = visualize_saliency(model, layer_idx, filter_indices=None, \n",
    "                                       seed_input=inp, backprop_modifier=modifier)\n",
    "            if modifier is None:\n",
    "                modifier = 'vanilla'\n",
    "            ax[i+1].set_title(modifier)    \n",
    "            ax[i+1].imshow(grads, cmap='binary')"
   ]
  },
  {
   "cell_type": "code",
   "execution_count": null,
   "metadata": {},
   "outputs": [],
   "source": []
  }
 ],
 "metadata": {
  "kernelspec": {
   "display_name": "Python 3",
   "language": "python",
   "name": "python3"
  },
  "language_info": {
   "codemirror_mode": {
    "name": "ipython",
    "version": 3
   },
   "file_extension": ".py",
   "mimetype": "text/x-python",
   "name": "python",
   "nbconvert_exporter": "python",
   "pygments_lexer": "ipython3",
   "version": "3.6.8"
  }
 },
 "nbformat": 4,
 "nbformat_minor": 2
}
